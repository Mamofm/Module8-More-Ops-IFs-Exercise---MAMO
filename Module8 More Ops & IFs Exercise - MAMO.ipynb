{
 "cells": [
  {
   "cell_type": "markdown",
   "metadata": {},
   "source": [
    "### Exercise 1\n",
    "Ask for an exam score and store that number. If the number is greater than 100, then print out 'You cannot have an exam score higher than 100'. If the number doesn't exceeed 100 but is greater than or equal to 75, then print out 'You did great on your exam!'. Otherwise if they scored lower than 75, then print out 'You need to study harder'."
   ]
  },
  {
   "cell_type": "code",
   "execution_count": 4,
   "metadata": {},
   "outputs": [
    {
     "name": "stdout",
     "output_type": "stream",
     "text": [
      "Enter Exame Score:75\n",
      "You did great on your exam!\n"
     ]
    }
   ],
   "source": [
    "score = int (input(\"Enter Exame Score:\"))\n",
    "\n",
    "if (score > 100):\n",
    "    print ('You cannot have an exam score higher than 100')\n",
    "elif (score >= 75):\n",
    "    print ('You did great on your exam!')\n",
    "else:\n",
    "    print ('You need to study harder')      "
   ]
  },
  {
   "cell_type": "code",
   "execution_count": null,
   "metadata": {},
   "outputs": [],
   "source": []
  },
  {
   "cell_type": "markdown",
   "metadata": {},
   "source": [
    "#### Exercise 2\n",
    "Ask a user to enter two numbers and find their average. Then, print out the average and whether each number is below or above average. Determine if a function should be created or not.\n",
    "    "
   ]
  },
  {
   "cell_type": "code",
   "execution_count": 4,
   "metadata": {},
   "outputs": [
    {
     "name": "stdout",
     "output_type": "stream",
     "text": [
      "Enter first number:30\n",
      "Enter second number:80\n",
      "Averagre is 55.00\n",
      "30 is below 55.00\n",
      "80 is above 55.00\n"
     ]
    }
   ],
   "source": [
    "num1 = int (input(\"Enter first number:\"))\n",
    "num2 = int (input(\"Enter second number:\"))\n",
    "\n",
    "avg =  (num1+num2) / 2\n",
    "\n",
    "print (f\"Averagre is {avg:.2f}\")\n",
    "\n",
    "if num1 > avg: \n",
    "    print (f\"{num1} is above {avg:.2f}\")\n",
    "else:\n",
    "    print (f\"{num1} is below {avg:.2f}\")\n",
    "    \n",
    "\n",
    "if num2 > avg: \n",
    "    print (f\"{num2} is above {avg:.2f}\")\n",
    "else:\n",
    "    print (f\"{num2} is below  {avg:.2f}\")\n",
    "  \n",
    "\n"
   ]
  },
  {
   "cell_type": "markdown",
   "metadata": {},
   "source": [
    "### Exercise 3\n",
    "Write a function to convert a test score to a grade where  \n",
    " - 90 - 100: A\n",
    " - 80 - 89:  B\n",
    " - 70 - 79:  C\n",
    " - 60 - 69:  D\n",
    " - < 60   :  F\n",
    " \n",
    "If a score is not between 0 and 100 then print out an error message. In the program, ask the user for a score and then call your function. "
   ]
  },
  {
   "cell_type": "code",
   "execution_count": 6,
   "metadata": {},
   "outputs": [
    {
     "name": "stdout",
     "output_type": "stream",
     "text": [
      "Enter your score:91\n",
      "Grade is A\n"
     ]
    }
   ],
   "source": [
    "def gradeScore (score):\n",
    "    if score > 89:\n",
    "        print (\"Grade is A\")\n",
    "    elif score > 79:\n",
    "        print (\"Grade is B\")\n",
    "    elif score > 69:\n",
    "        print (\"Grade is C\")\n",
    "    elif score > 59:\n",
    "        print (\"Grade is D\")\n",
    "    else:\n",
    "        print (\"Grade is F\")\n",
    "\n",
    "\n",
    "score = int(input(\"Enter your score:\"))\n",
    "gradeScore (score)\n",
    "        "
   ]
  },
  {
   "cell_type": "code",
   "execution_count": 9,
   "metadata": {},
   "outputs": [
    {
     "name": "stdout",
     "output_type": "stream",
     "text": [
      "Enter your score:72\n",
      "Grade is C\n"
     ]
    }
   ],
   "source": [
    "score = int(input(\"Enter your score:\"))\n",
    "gradeScore (score)"
   ]
  },
  {
   "cell_type": "code",
   "execution_count": null,
   "metadata": {},
   "outputs": [],
   "source": []
  },
  {
   "cell_type": "markdown",
   "metadata": {},
   "source": [
    "### Exercise 4\n",
    "Convert following decimal number to a binary number by hand:\n",
    "\n",
    "    61\n",
    "    15\n",
    "    71\n",
    "    "
   ]
  },
  {
   "cell_type": "code",
   "execution_count": null,
   "metadata": {},
   "outputs": [],
   "source": [
    "61 is 0011 1101\n",
    "15 is 0000 1111\n",
    "71 is 0100 0111"
   ]
  },
  {
   "cell_type": "markdown",
   "metadata": {},
   "source": [
    "### Exercise 5\n",
    "When a = 61 and b = 15, what is the result of following bitwise opertion? Use inline comments to show your result in a binary number. Find your answer by hand.\n",
    "\n",
    "    a & b\n",
    "    a | b\n",
    "    a ^ b\n",
    "    a >> 2\n",
    "    "
   ]
  },
  {
   "cell_type": "code",
   "execution_count": 11,
   "metadata": {},
   "outputs": [
    {
     "name": "stdout",
     "output_type": "stream",
     "text": [
      "13\n",
      "63\n",
      "50\n",
      "15\n"
     ]
    }
   ],
   "source": [
    "a=61\n",
    "b=15\n",
    "print (a & b)  #00001101\n",
    "print (a | b)  #00111111\n",
    "print (a ^ b)  #00110010\n",
    "print (a >> 2) #00001111"
   ]
  }
 ],
 "metadata": {
  "kernelspec": {
   "display_name": "Python 3",
   "language": "python",
   "name": "python3"
  },
  "language_info": {
   "codemirror_mode": {
    "name": "ipython",
    "version": 3
   },
   "file_extension": ".py",
   "mimetype": "text/x-python",
   "name": "python",
   "nbconvert_exporter": "python",
   "pygments_lexer": "ipython3",
   "version": "3.8.8"
  }
 },
 "nbformat": 4,
 "nbformat_minor": 4
}
